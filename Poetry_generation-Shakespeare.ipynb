{
 "cells": [
  {
   "cell_type": "code",
   "execution_count": 1,
   "id": "mathematical-conservative",
   "metadata": {},
   "outputs": [],
   "source": [
    "import string\n",
    "import os\n",
    "import numpy as np\n",
    "import matplotlib.pyplot as plt\n",
    "%matplotlib inline\n",
    "from IPython.display import clear_output\n",
    "from random import sample\n",
    "import json\n",
    "from torch.utils.data import Dataset\n",
    "from torch.utils.data import DataLoader\n",
    "import tqdm"
   ]
  },
  {
   "cell_type": "code",
   "execution_count": 2,
   "id": "roman-bones",
   "metadata": {},
   "outputs": [],
   "source": [
    "POETRY_FILE_PATH = \"./sonnets.txt\""
   ]
  },
  {
   "cell_type": "markdown",
   "id": "balanced-joseph",
   "metadata": {},
   "source": [
    "# Data loading"
   ]
  },
  {
   "cell_type": "code",
   "execution_count": 3,
   "id": "suspected-stewart",
   "metadata": {},
   "outputs": [
    {
     "data": {
      "text/plain": [
       "['  From fairest creatures we desire increase,\\n',\n",
       " \"  That thereby beauty's rose might never die,\\n\",\n",
       " '  But as the riper should by time decease,\\n',\n",
       " '  His tender heir might bear his memory:\\n',\n",
       " '  But thou, contracted to thine own bright eyes,\\n',\n",
       " \"  Feed'st thy light's flame with self-substantial fuel,\\n\",\n",
       " '  Making a famine where abundance lies,\\n',\n",
       " '  Thy self thy foe, to thy sweet self too cruel:\\n',\n",
       " \"  Thou that art now the world's fresh ornament,\\n\",\n",
       " '  And only herald to the gaudy spring,\\n']"
      ]
     },
     "execution_count": 3,
     "metadata": {},
     "output_type": "execute_result"
    }
   ],
   "source": [
    "with open(POETRY_FILE_PATH, 'r', encoding=\"utf-8\") as iofile:\n",
    "    text = iofile.readlines()\n",
    "\n",
    "TEXT_START = 45\n",
    "TEXT_END = -368\n",
    "\n",
    "text = text[TEXT_START:TEXT_END]\n",
    "text[:10]"
   ]
  },
  {
   "cell_type": "code",
   "execution_count": 4,
   "id": "2e498bbf",
   "metadata": {},
   "outputs": [],
   "source": [
    "text = [sentence.lower() for sentence in text] # Your great code here\n",
    "text = \"\".join(text)"
   ]
  },
  {
   "cell_type": "code",
   "execution_count": 5,
   "id": "adc3c13a",
   "metadata": {},
   "outputs": [
    {
     "data": {
      "text/plain": [
       "38"
      ]
     },
     "execution_count": 5,
     "metadata": {},
     "output_type": "execute_result"
    }
   ],
   "source": [
    "tokens = set(text)\n",
    "num_tokens = len(tokens)\n",
    "num_tokens"
   ]
  },
  {
   "cell_type": "code",
   "execution_count": 6,
   "id": "empirical-frame",
   "metadata": {},
   "outputs": [],
   "source": [
    "idx_to_token = {idx: token for idx, token in enumerate(tokens)}\n",
    "\n",
    "token_to_idx = {token: idx for idx, token in enumerate(tokens)}"
   ]
  },
  {
   "cell_type": "code",
   "execution_count": 7,
   "id": "through-privacy",
   "metadata": {},
   "outputs": [
    {
     "data": {
      "text/plain": [
       "[\"  from fairest creatures we desire increase,\\n  that thereby beauty's rose might never die,\\n  but as the riper should by time decease,\\n  his tender heir might bear his memory:\\n  but thou, contracted to thine own bright eyes,\\n  feed'st thy light's flame with self-substantial fuel,\\n  making a famine where abundance lies,\\n  thy self thy foe, to thy sweet self too cruel:\\n  thou that art now the world's fresh ornament,\\n  and only herald to the gaudy spring,\\n  within thine own bud buriest thy content,\\n  and tender churl mak'st waste in niggarding:\\n    pity the world, or else this glutton be,\\n    to eat the world's due, by the grave and thee.\",\n",
       " \"  when forty winters shall besiege thy brow,\\n  and dig deep trenches in thy beauty's field,\\n  thy youth's proud livery so gazed on now,\\n  will be a tatter'd weed of small worth held:\\n  then being asked, where all thy beauty lies,\\n  where all the treasure of thy lusty days;\\n  to say, within thine own deep sunken eyes,\\n  were an all-eating shame, and thriftless praise.\\n  how much more praise deserv'd thy beauty's use,\\n  if thou couldst answer 'this fair child of mine\\n  shall sum my count, and make my old excuse,'\\n  proving his beauty by succession thine!\\n    this were to be new made when thou art old,\\n    and see thy blood warm when thou feel'st it cold.\",\n",
       " \"  look in thy glass and tell the face thou viewest\\n  now is the time that face should form another;\\n  whose fresh repair if now thou not renewest,\\n  thou dost beguile the world, unbless some mother.\\n  for where is she so fair whose unear'd womb\\n  disdains the tillage of thy husbandry?\\n  or who is he so fond will be the tomb,\\n  of his self-love to stop posterity?\\n  thou art thy mother's glass and she in thee\\n  calls back the lovely april of her prime;\\n  so thou through windows of thine age shalt see,\\n  despite of wrinkles this thy golden time.\\n    but if thou live, remember'd not to be,\\n    die single and thine image dies with thee.\"]"
      ]
     },
     "execution_count": 7,
     "metadata": {},
     "output_type": "execute_result"
    }
   ],
   "source": [
    "txt = text.split(\"\\n\\n\")[::2]\n",
    "txt[:3]"
   ]
  },
  {
   "cell_type": "code",
   "execution_count": 8,
   "id": "romantic-anime",
   "metadata": {},
   "outputs": [],
   "source": [
    "class Poems(Dataset):\n",
    "    def __init__(self, poems):\n",
    "        self.poems = poems\n",
    "    \n",
    "    def __len__(self):\n",
    "        return len(self.poems)\n",
    "    \n",
    "    def __getitem__(self, idx):\n",
    "        return self.poems[idx]\n",
    "    \n",
    "\n",
    "def to_matrix(sentences, max_len=None, pad=token_to_idx[' '], dtype='int32', batch_first = True):\n",
    "    \"\"\"Casts a list of sentences into rnn-digestable matrix\"\"\"\n",
    "    \n",
    "    max_len = max_len or max(map(len, sentences))\n",
    "    sentences_ix = np.zeros([len(sentences), max_len], dtype) + pad\n",
    "\n",
    "    for i in range(len(sentences)):\n",
    "        line_ix = [token_to_idx[c] for c in sentences[i]]\n",
    "        sentences_ix[i, :len(line_ix)] = line_ix[:max_len]\n",
    "        \n",
    "    if not batch_first:\n",
    "        sentences_ix = np.transpose(sentences_ix)\n",
    "\n",
    "    return sentences_ix\n",
    "\n",
    "poems = Poems(txt)"
   ]
  },
  {
   "cell_type": "code",
   "execution_count": 9,
   "id": "annoying-finder",
   "metadata": {},
   "outputs": [
    {
     "data": {
      "text/plain": [
       "\"  from fairest creatures we desire increase,\\n  that thereby beauty's rose might never die,\\n  but as the riper should by time decease,\\n  his tender heir might bear his memory:\\n  but thou, contracted to thine own bright eyes,\\n  feed'st thy light's flame with self-substantial fuel,\\n  making a famine where abundance lies,\\n  thy self thy foe, to thy sweet self too cruel:\\n  thou that art now the world's fresh ornament,\\n  and only herald to the gaudy spring,\\n  within thine own bud buriest thy content,\\n  and tender churl mak'st waste in niggarding:\\n    pity the world, or else this glutton be,\\n    to eat the world's due, by the grave and thee.\""
      ]
     },
     "execution_count": 9,
     "metadata": {},
     "output_type": "execute_result"
    }
   ],
   "source": [
    "poems[0]"
   ]
  },
  {
   "cell_type": "markdown",
   "id": "tired-canon",
   "metadata": {},
   "source": [
    "# Learning"
   ]
  },
  {
   "cell_type": "code",
   "execution_count": 10,
   "id": "acute-thanks",
   "metadata": {},
   "outputs": [],
   "source": [
    "import torch, torch.nn as nn\n",
    "import torch.nn.functional as F"
   ]
  },
  {
   "cell_type": "markdown",
   "id": "functional-terrain",
   "metadata": {},
   "source": [
    "## vanilla RNN"
   ]
  },
  {
   "cell_type": "code",
   "execution_count": 11,
   "id": "8fea2790",
   "metadata": {},
   "outputs": [],
   "source": [
    "from models import CharRNNCell, train_char_rnn"
   ]
  },
  {
   "cell_type": "markdown",
   "id": "cbc4511c",
   "metadata": {},
   "source": [
    "### vanilla RNN without dropout"
   ]
  },
  {
   "cell_type": "code",
   "execution_count": 12,
   "id": "unusual-gilbert",
   "metadata": {},
   "outputs": [
    {
     "data": {
      "image/png": "[encoded data removed]",
      "text/plain": [
       "<Figure size 432x288 with 1 Axes>"
      ]
     },
     "metadata": {
      "needs_background": "light"
     },
     "output_type": "display_data"
    },
    {
     "name": "stderr",
     "output_type": "stream",
     "text": [
      "training...: 100%|███████████████████████████████████████████████████████████████████| 300/300 [04:51<00:00,  1.03it/s]\n"
     ]
    },
    {
     "data": {
      "text/plain": [
       "CharRNNCell(\n",
       "  (emb): Embedding(38, 32)\n",
       "  (rnn): Linear(in_features=288, out_features=256, bias=True)\n",
       "  (hid_to_logits): Linear(in_features=256, out_features=38, bias=True)\n",
       ")"
      ]
     },
     "execution_count": 12,
     "metadata": {},
     "output_type": "execute_result"
    }
   ],
   "source": [
    "char_rnn = CharRNNCell(num_tokens=num_tokens)\n",
    "criterion = nn.NLLLoss()\n",
    "opt = torch.optim.Adam(char_rnn.parameters())\n",
    "scheduler = torch.optim.lr_scheduler.ReduceLROnPlateau(\n",
    "    opt, \n",
    "    patience=5,\n",
    "    factor=0.5\n",
    ")\n",
    "device = torch.device(\"cuda:0\" if torch.cuda.is_available() else \"cpu\")\n",
    "BATCH_SIZE = 32\n",
    "EPOCHS = 300\n",
    "history = []\n",
    "\n",
    "train_char_rnn(\n",
    "    char_rnn, \n",
    "    poems, \n",
    "    criterion, \n",
    "    opt, \n",
    "    scheduler, \n",
    "    history, \n",
    "    token_to_idx, \n",
    "    num_tokens, \n",
    "    device, \n",
    "    epochs=EPOCHS, \n",
    "    batch_size=BATCH_SIZE\n",
    ")\n",
    "torch.save(char_rnn.state_dict(), 'runs/vanillaRNN.pt')\n",
    "char_rnn.to('cpu')"
   ]
  },
  {
   "cell_type": "markdown",
   "id": "particular-night",
   "metadata": {},
   "source": [
    "## LSTM"
   ]
  },
  {
   "cell_type": "code",
   "execution_count": 14,
   "id": "9486adae",
   "metadata": {},
   "outputs": [],
   "source": [
    "from models import LSTM, train_lstm"
   ]
  },
  {
   "cell_type": "markdown",
   "id": "dc54324e",
   "metadata": {},
   "source": [
    "### LSTM without weights dropout"
   ]
  },
  {
   "cell_type": "code",
   "execution_count": 19,
   "id": "weird-remains",
   "metadata": {},
   "outputs": [
    {
     "data": {
      "image/png": "[encoded data removed]",
      "text/plain": [
       "<Figure size 432x288 with 1 Axes>"
      ]
     },
     "metadata": {
      "needs_background": "light"
     },
     "output_type": "display_data"
    },
    {
     "name": "stderr",
     "output_type": "stream",
     "text": [
      "training...: 100%|███████████████████████████████████████████████████████████████████| 170/170 [01:20<00:00,  2.10it/s]\n"
     ]
    },
    {
     "data": {
      "text/plain": [
       "LSTM(\n",
       "  (emb): Embedding(38, 32)\n",
       "  (lstm): LSTM(32, 256, num_layers=2, batch_first=True)\n",
       "  (hid_to_logits): Linear(in_features=256, out_features=38, bias=True)\n",
       ")"
      ]
     },
     "execution_count": 19,
     "metadata": {},
     "output_type": "execute_result"
    }
   ],
   "source": [
    "device = torch.device(\"cuda\" if torch.cuda.is_available() else \"cpu\")\n",
    "lstm = LSTM(num_tokens=num_tokens, n_layers=2)\n",
    "criterion = nn.NLLLoss()\n",
    "opt = torch.optim.Adam(lstm.parameters(), lr=1e-2)\n",
    "scheduler = torch.optim.lr_scheduler.ReduceLROnPlateau(\n",
    "    opt, \n",
    "    patience=5,\n",
    "    factor=0.5\n",
    ")\n",
    "BATCH_SIZE = 32\n",
    "EPOCHS = 170\n",
    "history = []\n",
    "\n",
    "train_lstm(\n",
    "    lstm, \n",
    "    poems, \n",
    "    criterion, \n",
    "    opt, \n",
    "    scheduler, \n",
    "    history, \n",
    "    token_to_idx, \n",
    "    num_tokens, \n",
    "    device, \n",
    "    epochs=EPOCHS, \n",
    "    batch_size=BATCH_SIZE\n",
    ")\n",
    "torch.save(lstm.state_dict(), 'runs/LSTM.pt')\n",
    "lstm.to('cpu')"
   ]
  },
  {
   "cell_type": "markdown",
   "id": "89e43b07",
   "metadata": {},
   "source": [
    "### LSTM with weights dropout"
   ]
  },
  {
   "cell_type": "code",
   "execution_count": 17,
   "id": "050d3313",
   "metadata": {},
   "outputs": [
    {
     "data": {
      "image/png": "[encoded data removed]",
      "text/plain": [
       "<Figure size 432x288 with 1 Axes>"
      ]
     },
     "metadata": {
      "needs_background": "light"
     },
     "output_type": "display_data"
    },
    {
     "name": "stderr",
     "output_type": "stream",
     "text": [
      "training...: 100%|███████████████████████████████████████████████████████████████████| 170/170 [01:20<00:00,  2.10it/s]\n"
     ]
    },
    {
     "data": {
      "text/plain": [
       "LSTM(\n",
       "  (emb): Embedding(38, 32)\n",
       "  (lstm): WeightDrop(\n",
       "    (module): LSTM(32, 256, num_layers=2, batch_first=True)\n",
       "  )\n",
       "  (hid_to_logits): Linear(in_features=256, out_features=38, bias=True)\n",
       ")"
      ]
     },
     "execution_count": 17,
     "metadata": {},
     "output_type": "execute_result"
    }
   ],
   "source": [
    "device = torch.device(\"cuda\" if torch.cuda.is_available() else \"cpu\")\n",
    "lstm_with_weight_dropout = LSTM(num_tokens=num_tokens, n_layers=2, weight_dropout=0.3)\n",
    "criterion = nn.NLLLoss()\n",
    "opt = torch.optim.Adam(lstm_with_weight_dropout.parameters(), lr=1e-2)\n",
    "scheduler = torch.optim.lr_scheduler.ReduceLROnPlateau(\n",
    "    opt, \n",
    "    patience=5,\n",
    "    factor=0.5\n",
    ")\n",
    "BATCH_SIZE = 32\n",
    "EPOCHS = 170\n",
    "history = []\n",
    "\n",
    "train_lstm(\n",
    "    lstm_with_weight_dropout, \n",
    "    poems, \n",
    "    criterion, \n",
    "    opt, \n",
    "    scheduler, \n",
    "    history, \n",
    "    token_to_idx, \n",
    "    num_tokens, \n",
    "    device, \n",
    "    epochs=EPOCHS, \n",
    "    batch_size=BATCH_SIZE\n",
    ")\n",
    "torch.save(lstm_with_weight_dropout.state_dict(), 'runs/LSTM_with_weight_dropout.pt')\n",
    "lstm_with_weight_dropout.to('cpu')"
   ]
  },
  {
   "cell_type": "markdown",
   "id": "nervous-cycle",
   "metadata": {},
   "source": [
    "# Generating poems"
   ]
  },
  {
   "cell_type": "markdown",
   "id": "infinite-sperm",
   "metadata": {},
   "source": [
    "## Generating vanilla RNN"
   ]
  },
  {
   "cell_type": "code",
   "execution_count": 34,
   "id": "greek-rebate",
   "metadata": {},
   "outputs": [],
   "source": [
    "def generate_sample_rnn(model, seed_phrase=' i', max_length=300, temperature=1.0):\n",
    "    '''\n",
    "    ### Disclaimer: this is an example function for text generation.\n",
    "    ### You can either adapt it in your code or create your own function\n",
    "    \n",
    "    The function generates text given a phrase of length at least SEQ_LENGTH.\n",
    "    :param seed_phrase: prefix characters. The RNN is asked to continue the phrase\n",
    "    :param max_length: maximum output length, including seed_phrase\n",
    "    :param temperature: coefficient for sampling.  higher temperature produces more chaotic outputs, \n",
    "        smaller temperature converges to the single most likely output.\n",
    "        \n",
    "    Be careful with the model output. This model waits logits (not probabilities/log-probabilities)\n",
    "    of the next symbol.\n",
    "    '''\n",
    "    \n",
    "    x_sequence = [token_to_idx[token] for token in seed_phrase]\n",
    "    x_sequence = torch.tensor([x_sequence], dtype=torch.int64)\n",
    "    hid_state = model.initial_state(batch_size=1)\n",
    "    \n",
    "    for i in range(len(seed_phrase) - 1):\n",
    "        hid_state, out = model(x_sequence[:, i], hid_state)\n",
    "    \n",
    "    #start generating\n",
    "    for _ in range(max_length - len(seed_phrase)):\n",
    "        hid_state, out = model(x_sequence[:, -1], hid_state)\n",
    "        p_next = F.softmax(out / temperature, dim=-1).data.numpy()[0]\n",
    "        \n",
    "        # sample next token and push it back into x_sequence\n",
    "        next_ix = np.random.choice(len(tokens), p=p_next)\n",
    "        next_ix = torch.tensor([[next_ix]], dtype=torch.int64)\n",
    "        x_sequence = torch.cat([x_sequence, next_ix], dim=1)\n",
    "    \n",
    "    return ''.join([idx_to_token[ix] for ix in x_sequence.data.numpy()[0]])"
   ]
  },
  {
   "cell_type": "code",
   "execution_count": 51,
   "id": "advised-victory",
   "metadata": {},
   "outputs": [
    {
     "name": "stdout",
     "output_type": "stream",
     "text": [
      "temperature = 0.1:\n",
      "  in the  and the  for the  for the  far  he  t  t                                                                                                                                                                                                                                                           \n",
      "\n",
      "temperature = 0.5:\n",
      "  int or thaube thy shoug the  ay er me and th the for ther hith more,\n",
      "   or sere thas  ald su f thin  in de the ther comen'sthe ther the  on the  ald sh th t ches be  we th  he   ar  n     a                                                                                                              \n",
      "\n",
      "temperature = 1.0:\n",
      "  ingi co if sat,\n",
      "  a thou ast ine gralt bo wirchyerung tanein ald makearn cincensteri fiand?\n",
      "  in  falll wer  of thoug'ns, dtsee!\n",
      "  thingredishevensanghoslonkewsacl wiescouspatime's lostary,\n",
      "  war, wol in poor my lo ke hrew ing ther'd son thount, weecemuthed shit thopree, when will but mid beauthind\n"
     ]
    }
   ],
   "source": [
    "char_rnn.eval()\n",
    "print('temperature = 0.1:\\n', generate_sample_rnn(char_rnn, seed_phrase=' i', max_length=300, temperature=0.1))\n",
    "print()\n",
    "print('temperature = 0.5:\\n', generate_sample_rnn(char_rnn, seed_phrase=' i', max_length=300, temperature=0.5))\n",
    "print()\n",
    "print('temperature = 1.0:\\n', generate_sample_rnn(char_rnn, seed_phrase=' i', max_length=300, temperature=1.0))"
   ]
  },
  {
   "cell_type": "markdown",
   "id": "preliminary-improvement",
   "metadata": {},
   "source": [
    "## Generating LSTM"
   ]
  },
  {
   "cell_type": "code",
   "execution_count": 38,
   "id": "automated-motorcycle",
   "metadata": {},
   "outputs": [],
   "source": [
    "def generate_sample_lstm(model, seed_phrase=' i', max_length=300, temperature=1.0):\n",
    "    '''\n",
    "    ### Disclaimer: this is an example function for text generation.\n",
    "    ### You can either adapt it in your code or create your own function\n",
    "    \n",
    "    The function generates text given a phrase of length at least SEQ_LENGTH.\n",
    "    :param seed_phrase: prefix characters. The RNN is asked to continue the phrase\n",
    "    :param max_length: maximum output length, including seed_phrase\n",
    "    :param temperature: coefficient for sampling.  higher temperature produces more chaotic outputs, \n",
    "        smaller temperature converges to the single most likely output.\n",
    "        \n",
    "    Be careful with the model output. This model waits logits (not probabilities/log-probabilities)\n",
    "    of the next symbol.\n",
    "    '''\n",
    "    \n",
    "    x_sequence = [token_to_idx[token] for token in seed_phrase]\n",
    "    x_sequence = torch.tensor([x_sequence], dtype=torch.int64)\n",
    "    hidden = model.initial_state(1, \"cpu\")\n",
    "    \n",
    "    #feed the seed phrase, if any\n",
    "    for i in range(len(seed_phrase) - 1):\n",
    "        out, hidden = model(x_sequence[:, i][None], hidden)\n",
    "    \n",
    "    #start generating\n",
    "    for _ in range(max_length - len(seed_phrase)):\n",
    "        out, hidden = model(x_sequence[:, -1][None], hidden)\n",
    "        # Be really careful here with the model output\n",
    "        p_next = F.softmax(out[0] / temperature, dim=-1).data.numpy()[0]\n",
    "        \n",
    "        # sample next token and push it back into x_sequence\n",
    "        next_ix = np.random.choice(len(tokens), p=p_next)\n",
    "        next_ix = torch.tensor([[next_ix]], dtype=torch.int64)\n",
    "        x_sequence = torch.cat([x_sequence, next_ix], dim=1)\n",
    "    \n",
    "    return ''.join([idx_to_token[ix] for ix in x_sequence.data.numpy()[0]])"
   ]
  },
  {
   "cell_type": "code",
   "execution_count": 53,
   "id": "fantastic-forge",
   "metadata": {},
   "outputs": [
    {
     "name": "stdout",
     "output_type": "stream",
     "text": [
      "temperature = 0.1:\n",
      "  in her face,\n",
      "  save where thou art when thou art all deserving?\n",
      "  i should in thought come,\n",
      "  o! what is not so true a fool as the winds\n",
      "  which born of love, more blest may be the sense,\n",
      "    pity me then, dear friend, and i assure ye,\n",
      "    to the world will be the summer sweet,\n",
      "  though to be so fe\n",
      "\n",
      "temperature = 0.5:\n",
      "  is hence of to hear,\n",
      "  my self a satire to show thy show,\n",
      "    then proud-pied april perfumes in this great groan\n",
      "  for i have sworn thee how to my deeds,\n",
      "  to come to be assail'd, till for my self alone,\n",
      "  the painted banquet bids my servant tomb,\n",
      "  nor thou belied,                                 \n",
      "\n",
      "temperature = 1.0:\n",
      "  in my praise;\n",
      "  whilst her praising him i spur that prize. i dethinks are our spoints east,\n",
      "  how have, when it alter o'er doth showers.\n",
      "  thus doth you speal still'd away,\n",
      "    if thou sleet share a joy?\n",
      "  when i constal'd beauty straight grow shame,\n",
      "  steal mine own vacable me doth sweetest bud.\n",
      " \n"
     ]
    }
   ],
   "source": [
    "lstm.eval()\n",
    "print('temperature = 0.1:\\n', generate_sample_lstm(lstm, seed_phrase=' i', max_length=300, temperature=0.1))\n",
    "print()\n",
    "print('temperature = 0.5:\\n', generate_sample_lstm(lstm, seed_phrase=' i', max_length=300, temperature=0.5))\n",
    "print()\n",
    "print('temperature = 1.0:\\n', generate_sample_lstm(lstm, seed_phrase=' i', max_length=300, temperature=1.0))"
   ]
  },
  {
   "cell_type": "code",
   "execution_count": 58,
   "id": "a1146716",
   "metadata": {},
   "outputs": [
    {
     "name": "stdout",
     "output_type": "stream",
     "text": [
      "temperature = 0.1:\n",
      "  in the world an end,\n",
      "  and for they in thee are you to lease his swift,\n",
      "  and then believe me, my love that it was nourish'd,\n",
      "  on whom fortune on self-substantial fuel,\n",
      "  which hath no namelling for love as oft as mine,\n",
      "  the ornament of beauty is suspect,\n",
      "    and they are the first, 'tis flattery\n",
      "\n",
      "temperature = 0.5:\n",
      "  if thou wilt leave thine eye,\n",
      "  when to wrinkles which thou dost replete in insther,\n",
      "  and all things turns to prevent strong offence:\n",
      "  so do our mine, mine is thy grief pride,\n",
      "  like thought costs of worth the stardious seem\n",
      "  my tongue-tied speaking of holds hate a pannot,\n",
      "  made old offences of\n",
      "\n",
      "temperature = 1.0:\n",
      "  in thy course untainted dearer,\n",
      "  which up to each hang hapling beauty's name;\n",
      "  but thou that is such strengths leful may,\n",
      "  making against my state with conceits knowing,\n",
      "  in the privap'd others which, her with the story;\n",
      "  for since each hand hand tall nor mentoin spend,\n",
      "  or as sumer shape and\n"
     ]
    }
   ],
   "source": [
    "lstm_with_weight_dropout.eval()\n",
    "print('temperature = 0.1:\\n', generate_sample_lstm(lstm_with_weight_dropout, seed_phrase=' i', max_length=300, temperature=0.1))\n",
    "print()\n",
    "print('temperature = 0.5:\\n', generate_sample_lstm(lstm_with_weight_dropout, seed_phrase=' i', max_length=300, temperature=0.5))\n",
    "print()\n",
    "print('temperature = 1.0:\\n', generate_sample_lstm(lstm_with_weight_dropout, seed_phrase=' i', max_length=300, temperature=1.0))"
   ]
  },
  {
   "cell_type": "code",
   "execution_count": null,
   "id": "683b9a24",
   "metadata": {},
   "outputs": [],
   "source": []
  }
 ],
 "metadata": {
  "kernelspec": {
   "display_name": "Python 3",
   "language": "python",
   "name": "python3"
  },
  "language_info": {
   "codemirror_mode": {
    "name": "ipython",
    "version": 3
   },
   "file_extension": ".py",
   "mimetype": "text/x-python",
   "name": "python",
   "nbconvert_exporter": "python",
   "pygments_lexer": "ipython3",
   "version": "3.7.10"
  }
 },
 "nbformat": 4,
 "nbformat_minor": 5
}
