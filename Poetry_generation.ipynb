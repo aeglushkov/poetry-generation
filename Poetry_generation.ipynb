{
 "cells": [
  {
   "cell_type": "code",
   "execution_count": 1,
   "id": "mathematical-conservative",
   "metadata": {},
   "outputs": [],
   "source": [
    "import string\n",
    "import os\n",
    "import numpy as np\n",
    "import matplotlib.pyplot as plt\n",
    "%matplotlib inline\n",
    "from IPython.display import clear_output\n",
    "from random import sample\n",
    "import json\n",
    "from torch.utils.data import Dataset\n",
    "from torch.utils.data import DataLoader\n",
    "import tqdm"
   ]
  },
  {
   "cell_type": "code",
   "execution_count": 2,
   "id": "roman-bones",
   "metadata": {},
   "outputs": [],
   "source": [
    "ONEGIN_FILE_PATH = \"./onegin.txt\""
   ]
  },
  {
   "cell_type": "markdown",
   "id": "balanced-joseph",
   "metadata": {},
   "source": [
    "# Data loading"
   ]
  },
  {
   "cell_type": "code",
   "execution_count": 186,
   "id": "suspected-stewart",
   "metadata": {},
   "outputs": [
    {
     "data": {
      "text/plain": [
       "['I',\n",
       " '«Мой дядя самых честных правил,',\n",
       " 'Когда не в шутку занемог,',\n",
       " 'Он уважать себя заставил',\n",
       " 'И лучше выдумать не мог.',\n",
       " 'Его пример другим наука;',\n",
       " 'Но, боже мой, какая скука',\n",
       " 'С больным сидеть и день и ночь,',\n",
       " 'Не отходя ни шагу прочь!',\n",
       " 'Какое низкое коварство',\n",
       " 'Полуживого забавлять,',\n",
       " 'Ему подушки поправлять,',\n",
       " 'Печально подносить лекарство,',\n",
       " 'Вздыхать и думать про себя:',\n",
       " 'Когда же черт возьмет тебя!»',\n",
       " 'II',\n",
       " 'Так думал молодой повеса,',\n",
       " 'Летя в пыли на почтовых,',\n",
       " 'Всевышней волею Зевеса',\n",
       " 'Наследник всех своих родных. —',\n",
       " 'Друзья Людмилы и Руслана!',\n",
       " 'С героем моего романа',\n",
       " 'Без предисловий, сей же час',\n",
       " 'Позвольте познакомить вас:',\n",
       " 'Онегин, добрый мой приятель,',\n",
       " 'Родился на брегах Невы,',\n",
       " 'Где, может быть, родились вы',\n",
       " 'Или блистали, мой читатель;',\n",
       " 'Там некогда гулял и я:',\n",
       " 'Но вреден север для меня']"
      ]
     },
     "execution_count": 186,
     "metadata": {},
     "output_type": "execute_result"
    }
   ],
   "source": [
    "if not os.path.exists(ONEGIN_FILE_PATH):\n",
    "    !wget https://raw.githubusercontent.com/attatrol/data_sources/master/onegin.txt\n",
    "    \n",
    "with open(ONEGIN_FILE_PATH, 'r', encoding=\"utf-8\") as iofile:\n",
    "    text = iofile.readlines()\n",
    "    \n",
    "text = [x.replace('\\t\\t', '').replace('\\n', '') for x in text if len(x.replace('\\t\\t', '').replace('\\n', '')) > 0]\n",
    "\n",
    "text[:30]"
   ]
  },
  {
   "cell_type": "code",
   "execution_count": 4,
   "id": "likely-given",
   "metadata": {},
   "outputs": [
    {
     "data": {
      "text/plain": [
       "[['«мой дядя самых честных правил,',\n",
       "  'когда не в шутку занемог,',\n",
       "  'он уважать себя заставил',\n",
       "  'и лучше выдумать не мог.',\n",
       "  'его пример другим наука;',\n",
       "  'но, боже мой, какая скука',\n",
       "  'с больным сидеть и день и ночь,',\n",
       "  'не отходя ни шагу прочь!',\n",
       "  'какое низкое коварство',\n",
       "  'полуживого забавлять,',\n",
       "  'ему подушки поправлять,',\n",
       "  'печально подносить лекарство,',\n",
       "  'вздыхать и думать про себя:',\n",
       "  'когда же черт возьмет тебя!»'],\n",
       " ['татьяна вслушаться желает',\n",
       "  'в беседы, в общий разговор;',\n",
       "  'но всех в гостиной занимает',\n",
       "  'такой бессвязный, пошлый вздор;',\n",
       "  'всё в них так бледно, равнодушно;',\n",
       "  'они клевещут даже скучно;',\n",
       "  'в бесплодной сухости речей,',\n",
       "  'расспросов, сплетен и вестей',\n",
       "  'не вспыхнет мысли в целы сутки,',\n",
       "  'хоть невзначай, хоть наобум',\n",
       "  'не улыбнется томный ум,',\n",
       "  'не дрогнет сердце, хоть для шутки.',\n",
       "  'и даже глупости смешной',\n",
       "  'в тебе не встретишь, свет пустой.']]"
      ]
     },
     "execution_count": 4,
     "metadata": {},
     "output_type": "execute_result"
    }
   ],
   "source": [
    "txt = []\n",
    "MIN_LENGTH = 7\n",
    "for i, s in enumerate(text):\n",
    "    if len(s) > MIN_LENGTH:\n",
    "        txt[-1].append(s.lower())\n",
    "    else:\n",
    "        txt.append([])\n",
    "txt[::300]"
   ]
  },
  {
   "cell_type": "code",
   "execution_count": 5,
   "id": "abandoned-southwest",
   "metadata": {},
   "outputs": [
    {
     "data": {
      "text/plain": [
       "83"
      ]
     },
     "execution_count": 5,
     "metadata": {},
     "output_type": "execute_result"
    }
   ],
   "source": [
    "text_set = set()\n",
    "for t in txt:\n",
    "    for line in t:\n",
    "        text_set.update(set(line))\n",
    "text_set.update('\\n')\n",
    "tokens = sorted(set(text_set))\n",
    "num_tokens = len(text_set)\n",
    "num_tokens"
   ]
  },
  {
   "cell_type": "code",
   "execution_count": 6,
   "id": "empirical-frame",
   "metadata": {},
   "outputs": [],
   "source": [
    "idx_to_token = {idx: token for idx, token in enumerate(tokens)}\n",
    "\n",
    "token_to_idx = {token: idx for idx, token in enumerate(tokens)}"
   ]
  },
  {
   "cell_type": "code",
   "execution_count": 7,
   "id": "through-privacy",
   "metadata": {},
   "outputs": [],
   "source": [
    "txt = ['\\n'.join(x) for x in txt]"
   ]
  },
  {
   "cell_type": "code",
   "execution_count": 8,
   "id": "romantic-anime",
   "metadata": {},
   "outputs": [],
   "source": [
    "class Poems(Dataset):\n",
    "    def __init__(self, poems):\n",
    "        self.poems = poems\n",
    "    \n",
    "    def __len__(self):\n",
    "        return len(self.poems)\n",
    "    \n",
    "    def __getitem__(self, idx):\n",
    "        return self.poems[idx]\n",
    "    \n",
    "\n",
    "def to_matrix(sentences, max_len=None, pad=token_to_idx[' '], dtype='int32', batch_first = True):\n",
    "    \"\"\"Casts a list of sentences into rnn-digestable matrix\"\"\"\n",
    "    \n",
    "    max_len = max_len or max(map(len, sentences))\n",
    "    sentences_ix = np.zeros([len(sentences), max_len], dtype) + pad\n",
    "\n",
    "    for i in range(len(sentences)):\n",
    "        line_ix = [token_to_idx[c] for c in sentences[i]]\n",
    "        sentences_ix[i, :len(line_ix)] = line_ix[:max_len]\n",
    "        \n",
    "    if not batch_first:\n",
    "        sentences_ix = np.transpose(sentences_ix)\n",
    "\n",
    "    return sentences_ix\n",
    "\n",
    "poems = Poems(txt)"
   ]
  },
  {
   "cell_type": "code",
   "execution_count": 9,
   "id": "annoying-finder",
   "metadata": {},
   "outputs": [
    {
     "data": {
      "text/plain": [
       "'«мой дядя самых честных правил,\\nкогда не в шутку занемог,\\nон уважать себя заставил\\nи лучше выдумать не мог.\\nего пример другим наука;\\nно, боже мой, какая скука\\nс больным сидеть и день и ночь,\\nне отходя ни шагу прочь!\\nкакое низкое коварство\\nполуживого забавлять,\\nему подушки поправлять,\\nпечально подносить лекарство,\\nвздыхать и думать про себя:\\nкогда же черт возьмет тебя!»'"
      ]
     },
     "execution_count": 9,
     "metadata": {},
     "output_type": "execute_result"
    }
   ],
   "source": [
    "poems[0]"
   ]
  },
  {
   "cell_type": "markdown",
   "id": "tired-canon",
   "metadata": {},
   "source": [
    "# Learning"
   ]
  },
  {
   "cell_type": "code",
   "execution_count": 10,
   "id": "acute-thanks",
   "metadata": {},
   "outputs": [],
   "source": [
    "import torch, torch.nn as nn\n",
    "import torch.nn.functional as F"
   ]
  },
  {
   "cell_type": "markdown",
   "id": "functional-terrain",
   "metadata": {},
   "source": [
    "## vanilla RNN"
   ]
  },
  {
   "cell_type": "code",
   "execution_count": 11,
   "id": "8fea2790",
   "metadata": {},
   "outputs": [],
   "source": [
    "from models import CharRNNCell, train_char_rnn"
   ]
  },
  {
   "cell_type": "markdown",
   "id": "cbc4511c",
   "metadata": {},
   "source": [
    "### vanilla RNN without dropout"
   ]
  },
  {
   "cell_type": "code",
   "execution_count": 12,
   "id": "unusual-gilbert",
   "metadata": {},
   "outputs": [
    {
     "data": {
      "image/png": "[encoded data removed]",
      "text/plain": [
       "<Figure size 432x288 with 1 Axes>"
      ]
     },
     "metadata": {
      "needs_background": "light"
     },
     "output_type": "display_data"
    },
    {
     "name": "stderr",
     "output_type": "stream",
     "text": [
      "training...: 100%|███████████████████████████████████████████████████████████████████| 300/300 [15:40<00:00,  3.13s/it]\n"
     ]
    }
   ],
   "source": [
    "char_rnn = CharRNNCell(num_tokens=num_tokens)\n",
    "criterion = nn.NLLLoss()\n",
    "opt = torch.optim.Adam(char_rnn.parameters())\n",
    "scheduler = torch.optim.lr_scheduler.ReduceLROnPlateau(\n",
    "    opt, \n",
    "    patience=5,\n",
    "    factor=0.5\n",
    ")\n",
    "device = torch.device(\"cuda:0\" if torch.cuda.is_available() else \"cpu\")\n",
    "BATCH_SIZE = 32\n",
    "EPOCHS = 300\n",
    "history = []\n",
    "\n",
    "train_char_rnn(\n",
    "    char_rnn, \n",
    "    poems, \n",
    "    criterion, \n",
    "    opt, \n",
    "    scheduler, \n",
    "    history, \n",
    "    token_to_idx, \n",
    "    num_tokens, \n",
    "    device, \n",
    "    epochs=EPOCHS, \n",
    "    batch_size=BATCH_SIZE\n",
    ")\n",
    "char_rnn.to('cpu')"
   ]
  },
  {
   "cell_type": "markdown",
   "id": "3c705409",
   "metadata": {},
   "source": [
    "### vanilla RNN with emb dropout"
   ]
  },
  {
   "cell_type": "code",
   "execution_count": 15,
   "id": "de285749",
   "metadata": {},
   "outputs": [
    {
     "data": {
      "image/png": "[encoded data removed]",
      "text/plain": [
       "<Figure size 432x288 with 1 Axes>"
      ]
     },
     "metadata": {
      "needs_background": "light"
     },
     "output_type": "display_data"
    },
    {
     "name": "stderr",
     "output_type": "stream",
     "text": [
      "training...: 100%|███████████████████████████████████████████████████████████████████| 300/300 [17:00<00:00,  3.40s/it]\n"
     ]
    },
    {
     "data": {
      "text/plain": [
       "CharRNNCell(\n",
       "  (emb): Embedding(83, 32)\n",
       "  (emb_dropout): Dropout(p=0.3, inplace=False)\n",
       "  (rnn): Linear(in_features=288, out_features=256, bias=True)\n",
       "  (hid_to_logits): Linear(in_features=256, out_features=83, bias=True)\n",
       ")"
      ]
     },
     "execution_count": 15,
     "metadata": {},
     "output_type": "execute_result"
    }
   ],
   "source": [
    "char_rnn_with_dropout = CharRNNCell(num_tokens=num_tokens, emb_dropout=0.3)\n",
    "criterion = nn.NLLLoss()\n",
    "opt = torch.optim.Adam(char_rnn_with_dropout.parameters())\n",
    "scheduler = torch.optim.lr_scheduler.ReduceLROnPlateau(\n",
    "    opt, \n",
    "    patience=5,\n",
    "    factor=0.5\n",
    ")\n",
    "device = torch.device(\"cuda:0\" if torch.cuda.is_available() else \"cpu\")\n",
    "BATCH_SIZE = 32\n",
    "EPOCHS = 300\n",
    "history = []\n",
    "\n",
    "train_char_rnn(\n",
    "    char_rnn_with_dropout, \n",
    "    poems, \n",
    "    criterion, \n",
    "    opt, \n",
    "    scheduler, \n",
    "    history,\n",
    "    token_to_idx, \n",
    "    num_tokens, \n",
    "    device, \n",
    "    epochs=EPOCHS, \n",
    "    batch_size=BATCH_SIZE\n",
    ")\n",
    "char_rnn_with_dropout.to('cpu')"
   ]
  },
  {
   "cell_type": "markdown",
   "id": "particular-night",
   "metadata": {},
   "source": [
    "## LSTM"
   ]
  },
  {
   "cell_type": "code",
   "execution_count": 16,
   "id": "9486adae",
   "metadata": {},
   "outputs": [],
   "source": [
    "from models import LSTM, train_lstm"
   ]
  },
  {
   "cell_type": "markdown",
   "id": "dc54324e",
   "metadata": {},
   "source": [
    "### LSTM without dropout"
   ]
  },
  {
   "cell_type": "code",
   "execution_count": 17,
   "id": "weird-remains",
   "metadata": {},
   "outputs": [
    {
     "data": {
      "image/png": "[encoded data removed]",
      "text/plain": [
       "<Figure size 432x288 with 1 Axes>"
      ]
     },
     "metadata": {
      "needs_background": "light"
     },
     "output_type": "display_data"
    },
    {
     "name": "stderr",
     "output_type": "stream",
     "text": [
      "training...: 100%|███████████████████████████████████████████████████████████████████| 170/170 [05:05<00:00,  1.80s/it]\n"
     ]
    },
    {
     "data": {
      "text/plain": [
       "LSTM(\n",
       "  (emb): Embedding(83, 32)\n",
       "  (emb_dropout): Dropout(p=0, inplace=False)\n",
       "  (lstm): LSTM(32, 256, num_layers=2, batch_first=True)\n",
       "  (hid_to_logits): Linear(in_features=256, out_features=83, bias=True)\n",
       ")"
      ]
     },
     "execution_count": 17,
     "metadata": {},
     "output_type": "execute_result"
    }
   ],
   "source": [
    "device = torch.device(\"cuda\" if torch.cuda.is_available() else \"cpu\")\n",
    "lstm = LSTM(num_tokens=num_tokens, n_layers=2)\n",
    "criterion = nn.NLLLoss()\n",
    "opt = torch.optim.Adam(lstm.parameters(), lr=1e-2)\n",
    "scheduler = torch.optim.lr_scheduler.ReduceLROnPlateau(\n",
    "    opt, \n",
    "    patience=5,\n",
    "    factor=0.5\n",
    ")\n",
    "BATCH_SIZE = 32\n",
    "EPOCHS = 170\n",
    "history = []\n",
    "\n",
    "train_lstm(\n",
    "    lstm, \n",
    "    poems, \n",
    "    criterion, \n",
    "    opt, \n",
    "    scheduler, \n",
    "    history, \n",
    "    token_to_idx, \n",
    "    num_tokens, \n",
    "    device, \n",
    "    epochs=EPOCHS, \n",
    "    batch_size=BATCH_SIZE\n",
    ")\n",
    "lstm.to('cpu')"
   ]
  },
  {
   "cell_type": "markdown",
   "id": "89e43b07",
   "metadata": {},
   "source": [
    "### LSTM with emb and layer dropout"
   ]
  },
  {
   "cell_type": "code",
   "execution_count": 18,
   "id": "73ea0cdf",
   "metadata": {},
   "outputs": [
    {
     "data": {
      "image/png": "[encoded data removed]",
      "text/plain": [
       "<Figure size 432x288 with 1 Axes>"
      ]
     },
     "metadata": {
      "needs_background": "light"
     },
     "output_type": "display_data"
    },
    {
     "name": "stderr",
     "output_type": "stream",
     "text": [
      "training...: 100%|███████████████████████████████████████████████████████████████████| 500/500 [18:28<00:00,  2.22s/it]\n"
     ]
    },
    {
     "data": {
      "text/plain": [
       "LSTM(\n",
       "  (emb): Embedding(83, 32)\n",
       "  (emb_dropout): Dropout(p=0.3, inplace=False)\n",
       "  (lstm): LSTM(32, 256, num_layers=2, batch_first=True, dropout=0.3)\n",
       "  (hid_to_logits): Linear(in_features=256, out_features=83, bias=True)\n",
       ")"
      ]
     },
     "execution_count": 18,
     "metadata": {},
     "output_type": "execute_result"
    }
   ],
   "source": [
    "device = torch.device(\"cuda\" if torch.cuda.is_available() else \"cpu\")\n",
    "lstm_with_dropout = LSTM(num_tokens=num_tokens, n_layers=2, emb_dropout=0.3, lstm_dropout=0.3)\n",
    "criterion = nn.NLLLoss()\n",
    "opt = torch.optim.Adam(lstm_with_dropout.parameters(), lr=1e-2)\n",
    "scheduler = torch.optim.lr_scheduler.ReduceLROnPlateau(\n",
    "    opt, \n",
    "    patience=5,\n",
    "    factor=0.5\n",
    ")\n",
    "BATCH_SIZE = 32\n",
    "EPOCHS = 500\n",
    "history = []\n",
    "\n",
    "train_lstm(\n",
    "    lstm_with_dropout, \n",
    "    poems, \n",
    "    criterion, \n",
    "    opt, \n",
    "    scheduler, \n",
    "    history, \n",
    "    token_to_idx, \n",
    "    num_tokens, \n",
    "    device, \n",
    "    epochs=EPOCHS, \n",
    "    batch_size=BATCH_SIZE\n",
    ")\n",
    "lstm_with_dropout.to('cpu')"
   ]
  },
  {
   "cell_type": "markdown",
   "id": "5201f3ed",
   "metadata": {},
   "source": [
    "### LSTM with emb, layer and weight dropout"
   ]
  },
  {
   "cell_type": "code",
   "execution_count": 19,
   "id": "050d3313",
   "metadata": {},
   "outputs": [
    {
     "data": {
      "image/png": "[encoded data removed]",
      "text/plain": [
       "<Figure size 432x288 with 1 Axes>"
      ]
     },
     "metadata": {
      "needs_background": "light"
     },
     "output_type": "display_data"
    },
    {
     "name": "stderr",
     "output_type": "stream",
     "text": [
      "training...: 100%|███████████████████████████████████████████████████████████████████| 500/500 [18:24<00:00,  2.21s/it]\n"
     ]
    },
    {
     "data": {
      "text/plain": [
       "LSTM(\n",
       "  (emb): Embedding(83, 32)\n",
       "  (emb_dropout): Dropout(p=0.3, inplace=False)\n",
       "  (lstm): WeightDrop(\n",
       "    (module): LSTM(32, 256, num_layers=2, batch_first=True, dropout=0.3)\n",
       "  )\n",
       "  (hid_to_logits): Linear(in_features=256, out_features=83, bias=True)\n",
       ")"
      ]
     },
     "execution_count": 19,
     "metadata": {},
     "output_type": "execute_result"
    }
   ],
   "source": [
    "device = torch.device(\"cuda\" if torch.cuda.is_available() else \"cpu\")\n",
    "lstm_with_weight_dropout = LSTM(num_tokens=num_tokens, n_layers=2, emb_dropout=0.3, lstm_dropout=0.3, weight_dropout=0.3)\n",
    "criterion = nn.NLLLoss()\n",
    "opt = torch.optim.Adam(lstm_with_weight_dropout.parameters(), lr=1e-2)\n",
    "scheduler = torch.optim.lr_scheduler.ReduceLROnPlateau(\n",
    "    opt, \n",
    "    patience=5,\n",
    "    factor=0.5\n",
    ")\n",
    "BATCH_SIZE = 32\n",
    "EPOCHS = 500\n",
    "history = []\n",
    "\n",
    "train_lstm(\n",
    "    lstm_with_weight_dropout, \n",
    "    poems, \n",
    "    criterion, \n",
    "    opt, \n",
    "    scheduler, \n",
    "    history, \n",
    "    token_to_idx, \n",
    "    num_tokens, \n",
    "    device, \n",
    "    epochs=EPOCHS, \n",
    "    batch_size=BATCH_SIZE\n",
    ")\n",
    "lstm_with_weight_dropout.to('cpu')"
   ]
  },
  {
   "cell_type": "markdown",
   "id": "nervous-cycle",
   "metadata": {},
   "source": [
    "# Generating poems"
   ]
  },
  {
   "cell_type": "markdown",
   "id": "infinite-sperm",
   "metadata": {},
   "source": [
    "## Generating vanilla RNN"
   ]
  },
  {
   "cell_type": "code",
   "execution_count": 20,
   "id": "greek-rebate",
   "metadata": {},
   "outputs": [],
   "source": [
    "def generate_sample_rnn(model, seed_phrase='я ', max_length=300, temperature=1.0):\n",
    "    '''\n",
    "    ### Disclaimer: this is an example function for text generation.\n",
    "    ### You can either adapt it in your code or create your own function\n",
    "    \n",
    "    The function generates text given a phrase of length at least SEQ_LENGTH.\n",
    "    :param seed_phrase: prefix characters. The RNN is asked to continue the phrase\n",
    "    :param max_length: maximum output length, including seed_phrase\n",
    "    :param temperature: coefficient for sampling.  higher temperature produces more chaotic outputs, \n",
    "        smaller temperature converges to the single most likely output.\n",
    "        \n",
    "    Be careful with the model output. This model waits logits (not probabilities/log-probabilities)\n",
    "    of the next symbol.\n",
    "    '''\n",
    "    \n",
    "    x_sequence = [token_to_idx[token] for token in seed_phrase]\n",
    "    x_sequence = torch.tensor([x_sequence], dtype=torch.int64)\n",
    "    hid_state = model.initial_state(batch_size=1)\n",
    "    \n",
    "    for i in range(len(seed_phrase) - 1):\n",
    "        hid_state, out = model(x_sequence[:, i], hid_state)\n",
    "    \n",
    "    #start generating\n",
    "    for _ in range(max_length - len(seed_phrase)):\n",
    "        hid_state, out = model(x_sequence[:, -1], hid_state)\n",
    "        p_next = F.softmax(out / temperature, dim=-1).data.numpy()[0]\n",
    "        \n",
    "        # sample next token and push it back into x_sequence\n",
    "        next_ix = np.random.choice(len(tokens), p=p_next)\n",
    "        next_ix = torch.tensor([[next_ix]], dtype=torch.int64)\n",
    "        x_sequence = torch.cat([x_sequence, next_ix], dim=1)\n",
    "    \n",
    "    return ''.join([tokens[ix] for ix in x_sequence.data.numpy()[0]])"
   ]
  },
  {
   "cell_type": "code",
   "execution_count": 58,
   "id": "advised-victory",
   "metadata": {},
   "outputs": [
    {
     "name": "stdout",
     "output_type": "stream",
     "text": [
      "я сной ластик все вачевный демний;\n",
      "т лез-то ладите посчта\n",
      "сбужеюбвстрательном;\n",
      "на сужилковуталиколь;\n",
      "мрегляжездутаядниньяныл;\n",
      "овтелкавее висраши тьях,\n",
      "почерьнепесторуконый;\n",
      "призылавзамет, жеедим рыне\n",
      "вло тон,  ошеди тели  злень?\n",
      "ка траге сват кигерудь!\n",
      "ичтять натичтотво назбыти\n",
      "слевнет, чалинь разде\n"
     ]
    }
   ],
   "source": [
    "char_rnn.eval()\n",
    "print(generate_sample_rnn(char_rnn, seed_phrase='я ', max_length=300, temperature=1.0))"
   ]
  },
  {
   "cell_type": "code",
   "execution_count": 182,
   "id": "5b57456f",
   "metadata": {},
   "outputs": [
    {
     "name": "stdout",
     "output_type": "stream",
     "text": [
      "я свишии, вотприхостолжина,\n",
      "ка болод, свая и  отя ню\n",
      "вет лкрочин ноко нобиоврилбы. на  ий ноливонь\n",
      "потезкалссвосяндуедьель:\n",
      "онакунсянью, ивневой се внай,\n",
      "подратыльспошоме, вопусвых.\n",
      "утриечтолацдитьяхдил, ханом,\n",
      "ведабы, ннкени, здволи\n",
      "вохотомлшао моо сноглал\n",
      "мамнвевитящьшусьегуньясойт\n",
      "ятных. при чисе\n"
     ]
    }
   ],
   "source": [
    "char_rnn_with_dropout.eval()\n",
    "print(generate_sample_rnn(char_rnn_with_dropout, seed_phrase='я ', max_length=300, temperature=1.0))"
   ]
  },
  {
   "cell_type": "markdown",
   "id": "preliminary-improvement",
   "metadata": {},
   "source": [
    "## Generating LSTM"
   ]
  },
  {
   "cell_type": "code",
   "execution_count": 23,
   "id": "automated-motorcycle",
   "metadata": {},
   "outputs": [],
   "source": [
    "def generate_sample_lstm(model, seed_phrase='я ', max_length=300, temperature=1.0):\n",
    "    '''\n",
    "    ### Disclaimer: this is an example function for text generation.\n",
    "    ### You can either adapt it in your code or create your own function\n",
    "    \n",
    "    The function generates text given a phrase of length at least SEQ_LENGTH.\n",
    "    :param seed_phrase: prefix characters. The RNN is asked to continue the phrase\n",
    "    :param max_length: maximum output length, including seed_phrase\n",
    "    :param temperature: coefficient for sampling.  higher temperature produces more chaotic outputs, \n",
    "        smaller temperature converges to the single most likely output.\n",
    "        \n",
    "    Be careful with the model output. This model waits logits (not probabilities/log-probabilities)\n",
    "    of the next symbol.\n",
    "    '''\n",
    "    \n",
    "    x_sequence = [token_to_idx[token] for token in seed_phrase]\n",
    "    x_sequence = torch.tensor([x_sequence], dtype=torch.int64)\n",
    "    hidden = model.initial_state(1, \"cpu\")\n",
    "    \n",
    "    #feed the seed phrase, if any\n",
    "    for i in range(len(seed_phrase) - 1):\n",
    "        out, hidden = model(x_sequence[:, i][None], hidden)\n",
    "    \n",
    "    #start generating\n",
    "    for _ in range(max_length - len(seed_phrase)):\n",
    "        out, hidden = model(x_sequence[:, -1][None], hidden)\n",
    "        # Be really careful here with the model output\n",
    "        p_next = F.softmax(out[0] / temperature, dim=-1).data.numpy()[0]\n",
    "        \n",
    "        # sample next token and push it back into x_sequence\n",
    "        next_ix = np.random.choice(len(tokens), p=p_next)\n",
    "        next_ix = torch.tensor([[next_ix]], dtype=torch.int64)\n",
    "        x_sequence = torch.cat([x_sequence, next_ix], dim=1)\n",
    "    \n",
    "    return ''.join([tokens[ix] for ix in x_sequence.data.numpy()[0]])"
   ]
  },
  {
   "cell_type": "code",
   "execution_count": 24,
   "id": "fantastic-forge",
   "metadata": {},
   "outputs": [
    {
     "name": "stdout",
     "output_type": "stream",
     "text": [
      "я плачу… едви ночь простились в ворадки,\n",
      "хробно мой печали жаль.\n",
      "сердечного не мог.\n",
      "где ты в их устлетельном разроженье,\n",
      "глубокий выгодно жены тревогу\n",
      "остукла… законец наизур,\n",
      "ты в нем собранье брави грехи,\n",
      "писали в важный ум.\n",
      "в них на дурственной разговор вручием;\n",
      "прошую сердца всё равно:\n",
      "томницу ф\n"
     ]
    }
   ],
   "source": [
    "lstm.eval()\n",
    "print(generate_sample_lstm(lstm, seed_phrase='я ', max_length=300, temperature=1.0))"
   ]
  },
  {
   "cell_type": "code",
   "execution_count": 25,
   "id": "163f7e2f",
   "metadata": {},
   "outputs": [
    {
     "name": "stdout",
     "output_type": "stream",
     "text": [
      "я знал к жизнь орна подъезжать мой,\n",
      "как забаденный тут-вею\n",
      "всех этих места, сквозь протик\n",
      "в своей сердца твердя ль\n",
      "она воспоминадий пиры:\n",
      "и ждала татьяна понитал.\n",
      "без элегине так умный\n",
      "в гор так благословила ты;\n",
      "еще не зная, как не свечай,\n",
      "по вашем мерту; между тем\n",
      "точь-только, милый, узором,\n",
      "блажен\n"
     ]
    }
   ],
   "source": [
    "lstm_with_dropout.eval()\n",
    "print(generate_sample_lstm(lstm_with_dropout, seed_phrase='я ', max_length=300, temperature=1.0))"
   ]
  },
  {
   "cell_type": "code",
   "execution_count": 183,
   "id": "a1146716",
   "metadata": {},
   "outputs": [
    {
     "name": "stdout",
     "output_type": "stream",
     "text": [
      "я помню, где встает был рассеян,\n",
      "ты юдешенно спор в год он\n",
      "сезжала над хилем лугами\n",
      "еще звук все полодный взор,\n",
      "верная всех новых лод,\n",
      "то чужь описать неграйне;\n",
      "в двор. да вы, бывало, им отдам,\n",
      "в очках имень возваженье?\n",
      "приятный, и садь, то него\n",
      "его долгонь ведал ей…..\n",
      "но так мой зевал темли!\n",
      "а эту \n"
     ]
    }
   ],
   "source": [
    "lstm_with_weight_dropout.eval()\n",
    "print(generate_sample_lstm(lstm_with_weight_dropout, seed_phrase='я ', max_length=300, temperature=1.0))"
   ]
  },
  {
   "cell_type": "code",
   "execution_count": null,
   "id": "683b9a24",
   "metadata": {},
   "outputs": [],
   "source": []
  }
 ],
 "metadata": {
  "kernelspec": {
   "display_name": "Python 3",
   "language": "python",
   "name": "python3"
  },
  "language_info": {
   "codemirror_mode": {
    "name": "ipython",
    "version": 3
   },
   "file_extension": ".py",
   "mimetype": "text/x-python",
   "name": "python",
   "nbconvert_exporter": "python",
   "pygments_lexer": "ipython3",
   "version": "3.7.10"
  }
 },
 "nbformat": 4,
 "nbformat_minor": 5
}
