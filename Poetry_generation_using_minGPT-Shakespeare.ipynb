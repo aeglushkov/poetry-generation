{
 "cells": [
  {
   "cell_type": "code",
   "execution_count": 1,
   "id": "mathematical-conservative",
   "metadata": {},
   "outputs": [],
   "source": [
    "import string\n",
    "import os\n",
    "import numpy as np\n",
    "import matplotlib.pyplot as plt\n",
    "%matplotlib inline\n",
    "from IPython.display import clear_output\n",
    "from random import sample\n",
    "import json\n",
    "from torch.utils.data import Dataset\n",
    "from torch.utils.data import DataLoader\n",
    "import tqdm"
   ]
  },
  {
   "cell_type": "code",
   "execution_count": 2,
   "id": "roman-bones",
   "metadata": {},
   "outputs": [],
   "source": [
    "POETRY_FILE_PATH = \"./sonnets.txt\""
   ]
  },
  {
   "cell_type": "markdown",
   "id": "balanced-joseph",
   "metadata": {},
   "source": [
    "# Data loading"
   ]
  },
  {
   "cell_type": "code",
   "execution_count": 3,
   "id": "44fe41a8",
   "metadata": {},
   "outputs": [
    {
     "data": {
      "text/plain": [
       "['  From fairest creatures we desire increase,\\n',\n",
       " \"  That thereby beauty's rose might never die,\\n\",\n",
       " '  But as the riper should by time decease,\\n',\n",
       " '  His tender heir might bear his memory:\\n',\n",
       " '  But thou, contracted to thine own bright eyes,\\n',\n",
       " \"  Feed'st thy light's flame with self-substantial fuel,\\n\",\n",
       " '  Making a famine where abundance lies,\\n',\n",
       " '  Thy self thy foe, to thy sweet self too cruel:\\n',\n",
       " \"  Thou that art now the world's fresh ornament,\\n\",\n",
       " '  And only herald to the gaudy spring,\\n']"
      ]
     },
     "execution_count": 3,
     "metadata": {},
     "output_type": "execute_result"
    }
   ],
   "source": [
    "with open(POETRY_FILE_PATH, 'r', encoding=\"utf-8\") as iofile:\n",
    "    text = iofile.readlines()\n",
    "\n",
    "TEXT_START = 45\n",
    "TEXT_END = -368\n",
    "\n",
    "text = text[TEXT_START:TEXT_END]\n",
    "text[:10]"
   ]
  },
  {
   "cell_type": "code",
   "execution_count": 4,
   "id": "7b92ee39",
   "metadata": {},
   "outputs": [],
   "source": [
    "text = [sentence.lower() for sentence in text] # Your great code here\n",
    "text = \"\".join(text)"
   ]
  },
  {
   "cell_type": "code",
   "execution_count": 5,
   "id": "8e68d0c5",
   "metadata": {},
   "outputs": [
    {
     "data": {
      "text/plain": [
       "\"  from fairest creatures we desire increase,\\n  that thereby beauty's rose might never die,\\n  but as the riper should by time decease,\\n  his tender heir might bear his memory:\\n  but thou, contracted to thine own bright eyes,\\n  feed'st thy light's flame with self-substantial fuel,\\n  making a famine wh\""
      ]
     },
     "execution_count": 5,
     "metadata": {},
     "output_type": "execute_result"
    }
   ],
   "source": [
    "text[:300]"
   ]
  },
  {
   "cell_type": "code",
   "execution_count": 6,
   "id": "3bcb8a5a",
   "metadata": {},
   "outputs": [],
   "source": [
    "import math\n",
    "from torch.utils.data import Dataset\n",
    "\n",
    "class CharDataset(Dataset):\n",
    "\n",
    "    def __init__(self, data, block_size):\n",
    "        chars = sorted(list(set(data)))\n",
    "        data_size, vocab_size = len(data), len(chars)\n",
    "        print('data has %d characters, %d unique.' % (data_size, vocab_size))\n",
    "        \n",
    "        self.stoi = { ch:i for i,ch in enumerate(chars) }\n",
    "        self.itos = { i:ch for i,ch in enumerate(chars) }\n",
    "        self.block_size = block_size\n",
    "        self.vocab_size = vocab_size\n",
    "        self.data = data\n",
    "    \n",
    "    def __len__(self):\n",
    "        return len(self.data) - self.block_size\n",
    "\n",
    "    def __getitem__(self, idx):\n",
    "        # grab a chunk of (block_size + 1) characters from the data\n",
    "        chunk = self.data[idx:idx + self.block_size + 1]\n",
    "        # encode every character to an integer\n",
    "        dix = [self.stoi[s] for s in chunk]\n",
    "        \"\"\"\n",
    "        arrange data and targets so that the first i elements of x\n",
    "        will be asked to predict the i-th element of y. Notice that\n",
    "        the eventual language model will actually make block_size\n",
    "        individual predictions at the same time based on this data,\n",
    "        so we are being clever and amortizing the cost of the forward\n",
    "        pass of the network. So for example if block_size is 4, then\n",
    "        we could e.g. sample a chunk of text \"hello\", the integers in\n",
    "        x will correspond to \"hell\" and in y will be \"ello\". This will\n",
    "        then actually \"multitask\" 4 separate examples at the same time\n",
    "        in the language model:\n",
    "        - given just \"h\", please predict \"e\" as next\n",
    "        - given \"he\" please predict \"l\" next\n",
    "        - given \"hel\" predict \"l\" next\n",
    "        - given \"hell\" predict \"o\" next\n",
    "        \n",
    "        In addition, because the DataLoader will create batches of examples,\n",
    "        every forward/backward pass during traning will simultaneously train\n",
    "        a LOT of predictions, amortizing a lot of computation. In particular,\n",
    "        for a batched input of integers X (B, T) where B is batch size and\n",
    "        T is block_size and Y (B, T), the network will during training be\n",
    "        simultaneously training to make B*T predictions, all at once! Of course,\n",
    "        at test time we can paralellize across batch B, but unlike during training\n",
    "        we cannot parallelize across the time dimension T - we have to run\n",
    "        a forward pass of the network to recover the next single character of the \n",
    "        sequence along each batch dimension, and repeatedly always feed in a next\n",
    "        character to get the next one.\n",
    "        \n",
    "        So yes there is a big asymmetry between train/test time of autoregressive\n",
    "        models. During training we can go B*T at a time with every forward pass,\n",
    "        but during test time we can only go B at a time, T times, with T forward \n",
    "        passes.\n",
    "        \"\"\"\n",
    "        x = torch.tensor(dix[:-1], dtype=torch.long)\n",
    "        y = torch.tensor(dix[1:], dtype=torch.long)\n",
    "        return x, y"
   ]
  },
  {
   "cell_type": "code",
   "execution_count": 8,
   "id": "33f9d0b6",
   "metadata": {},
   "outputs": [],
   "source": [
    "block_size = 16"
   ]
  },
  {
   "cell_type": "code",
   "execution_count": 9,
   "id": "fac7a538",
   "metadata": {},
   "outputs": [
    {
     "name": "stdout",
     "output_type": "stream",
     "text": [
      "data has 100225 characters, 38 unique.\n"
     ]
    }
   ],
   "source": [
    "train_dataset = CharDataset(text, block_size)"
   ]
  },
  {
   "cell_type": "markdown",
   "id": "tired-canon",
   "metadata": {},
   "source": [
    "# Learning"
   ]
  },
  {
   "cell_type": "markdown",
   "id": "683d5e7f",
   "metadata": {},
   "source": [
    "[Модель](https://github.com/karpathy/minGPT)"
   ]
  },
  {
   "cell_type": "code",
   "execution_count": 10,
   "id": "acute-thanks",
   "metadata": {},
   "outputs": [],
   "source": [
    "import torch, torch.nn as nn\n",
    "import torch.nn.functional as F"
   ]
  },
  {
   "cell_type": "code",
   "execution_count": 11,
   "id": "6ba281c9",
   "metadata": {},
   "outputs": [],
   "source": [
    "from minGPT import GPT, GPTConfig\n",
    "mconf = GPTConfig(train_dataset.vocab_size, train_dataset.block_size,\n",
    "                  n_layer=8, n_head=8, n_embd=512)\n",
    "model = GPT(mconf)"
   ]
  },
  {
   "cell_type": "code",
   "execution_count": 12,
   "id": "64a89407",
   "metadata": {},
   "outputs": [
    {
     "name": "stderr",
     "output_type": "stream",
     "text": [
      "epoch 1 iter 391: train loss 1.64276. lr 1.507548e-04: 100%|█████████████████████████| 392/392 [03:11<00:00,  2.05it/s]\n",
      "epoch 2 iter 391: train loss 1.45182. lr 3.000000e-05: 100%|█████████████████████████| 392/392 [03:10<00:00,  2.06it/s]\n",
      "epoch 3 iter 391: train loss 1.42399. lr 1.507548e-04: 100%|█████████████████████████| 392/392 [03:10<00:00,  2.06it/s]\n",
      "epoch 4 iter 391: train loss 1.36966. lr 2.999924e-04: 100%|█████████████████████████| 392/392 [03:11<00:00,  2.05it/s]\n",
      "epoch 5 iter 391: train loss 1.19551. lr 1.477356e-04: 100%|█████████████████████████| 392/392 [03:10<00:00,  2.06it/s]\n"
     ]
    }
   ],
   "source": [
    "from minGPT import Trainer, TrainerConfig\n",
    "\n",
    "# initialize a trainer instance and kick off training\n",
    "tconf = TrainerConfig(max_epochs=5, batch_size=512//2, learning_rate=3e-4,\n",
    "                      lr_decay=True, warmup_tokens=512*20, final_tokens=2*len(train_dataset)*block_size,\n",
    "                      num_workers=0)\n",
    "trainer = Trainer(model, train_dataset, None, tconf)\n",
    "trainer.train()"
   ]
  },
  {
   "cell_type": "markdown",
   "id": "nervous-cycle",
   "metadata": {},
   "source": [
    "# Generating poems"
   ]
  },
  {
   "cell_type": "code",
   "execution_count": 23,
   "id": "b4ae7bb4",
   "metadata": {},
   "outputs": [
    {
     "name": "stdout",
     "output_type": "stream",
     "text": [
      "temperature = 0.1:\n",
      " i see the sun, and straight the straight to the state of the sun,\n",
      "  and summer's length to see the sun, and straight to the see the strong,\n",
      "  and that i this shall i death the sun, and straight the straight to the see the strong offence's created still the world's eyes doth the state,\n",
      "    to the world's eyes doth the state,\n",
      "    to the sea, that thou thy self away, and the beauty's summer's delight.\n",
      "    the world's eyes doth the state,\n",
      "    the store; the sun, though the sun of the state\n",
      "    to sho\n"
     ]
    }
   ],
   "source": [
    "from minGPT_utils import sample\n",
    "\n",
    "context = \" i\"\n",
    "x = torch.tensor([train_dataset.stoi[s] for s in context], dtype=torch.long)[None,...].to(trainer.device)\n",
    "y = sample(model, x, 500, temperature=0.1, sample=True, top_k=10)[0]\n",
    "completion = ''.join([train_dataset.itos[int(i)] for i in y])\n",
    "print('temperature = 0.1:')\n",
    "print(completion)"
   ]
  },
  {
   "cell_type": "code",
   "execution_count": 24,
   "id": "316c8a31",
   "metadata": {},
   "outputs": [
    {
     "name": "stdout",
     "output_type": "stream",
     "text": [
      "temperature = 0.5:\n",
      " i will come to catch\n",
      "  that thou to make the saw my self with self in eyes behold, the tomb of that strangely bright days,\n",
      "  and thou thy self alone,\n",
      "  since his strong that have i saw my self thou see'st the time do i not so fair subject that the summer's flowers are beauty's dead and play the that thou this shadow shadow it the still,\n",
      "  where is the time;\n",
      "  and then thou art the basest that shall face she knows not to the show thee how with this the time, despite the remover to the world's eyes\n"
     ]
    }
   ],
   "source": [
    "y = sample(model, x, 500, temperature=0.5, sample=True, top_k=10)[0]\n",
    "completion = ''.join([train_dataset.itos[int(i)] for i in y])\n",
    "print('temperature = 0.5:')\n",
    "print(completion)"
   ]
  },
  {
   "cell_type": "code",
   "execution_count": 25,
   "id": "3e5d6e0d",
   "metadata": {},
   "outputs": [
    {
     "name": "stdout",
     "output_type": "stream",
     "text": [
      "temperature = 1.0:\n",
      " is in my advis'd fair loving what this becoming of their spirit? gave not the excuse the believed to make my way.\n",
      "  for love's fire shall best by side, o that says 'in himponing shall have speen:\n",
      "    so then my pays:\n",
      "    till i speed's and wrinkles stave, to well-my death truth it thus, that first confound\n",
      "  a happy made thee so believe thence it of weaks, thy picture's me, not, the like to the sensions of still,\n",
      "  so thou, that i may state,\n",
      "  shall those fickled stay,\n",
      "  and by that i i hold,\n",
      "  a\n"
     ]
    }
   ],
   "source": [
    "y = sample(model, x, 500, temperature=1.0, sample=True, top_k=10)[0]\n",
    "completion = ''.join([train_dataset.itos[int(i)] for i in y])\n",
    "print('temperature = 1.0:')\n",
    "print(completion)"
   ]
  },
  {
   "cell_type": "code",
   "execution_count": null,
   "id": "6e831712",
   "metadata": {},
   "outputs": [],
   "source": []
  }
 ],
 "metadata": {
  "kernelspec": {
   "display_name": "Python 3",
   "language": "python",
   "name": "python3"
  },
  "language_info": {
   "codemirror_mode": {
    "name": "ipython",
    "version": 3
   },
   "file_extension": ".py",
   "mimetype": "text/x-python",
   "name": "python",
   "nbconvert_exporter": "python",
   "pygments_lexer": "ipython3",
   "version": "3.7.10"
  }
 },
 "nbformat": 4,
 "nbformat_minor": 5
}
